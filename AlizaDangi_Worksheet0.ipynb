{
  "nbformat": 4,
  "nbformat_minor": 0,
  "metadata": {
    "colab": {
      "provenance": [],
      "include_colab_link": true
    },
    "kernelspec": {
      "name": "python3",
      "display_name": "Python 3"
    },
    "language_info": {
      "name": "python"
    }
  },
  "cells": [
    {
      "cell_type": "markdown",
      "metadata": {
        "id": "view-in-github",
        "colab_type": "text"
      },
      "source": [
        "<a href=\"https://colab.research.google.com/github/alizadangi/AI_workshops/blob/main/AlizaDangi_Worksheet0.ipynb\" target=\"_parent\"><img src=\"https://colab.research.google.com/assets/colab-badge.svg\" alt=\"Open In Colab\"/></a>"
      ]
    },
    {
      "cell_type": "markdown",
      "source": [
        "#4.1 Exercise on Functions:"
      ],
      "metadata": {
        "id": "TE4RfUQYy0lz"
      }
    },
    {
      "cell_type": "markdown",
      "source": [
        "Task - 1:\n",
        "Create a Python program that converts between different units of measurement."
      ],
      "metadata": {
        "id": "2J73_MWky3kn"
      }
    },
    {
      "cell_type": "code",
      "execution_count": null,
      "metadata": {
        "colab": {
          "base_uri": "https://localhost:8080/"
        },
        "id": "pYxca16YypPG",
        "outputId": "c3833044-0e28-4406-cee1-726e8b0c638c"
      },
      "outputs": [
        {
          "output_type": "stream",
          "name": "stdout",
          "text": [
            "Unit Conversion Program\n",
            "Supported conversion types:\n",
            "1. Length: meters (m) to feet (ft) and vice versa\n",
            "2. Weight: kilograms (kg) to pounds (lbs) and vice versa\n",
            "3. Volume: liters (L) to gallons (gal) and vice versa\n",
            "Enter the conversion type (length, weight, volume): weight\n",
            "Enter the value to convert: 50\n",
            "Convert from (kg/lbs): kg\n",
            "Convert to (kg/lbs): lbs\n",
            "50.0 kg is equal to 110.23 lbs\n"
          ]
        }
      ],
      "source": [
        "def convert_units(value, from_unit, to_unit):\n",
        "    \"\"\"\n",
        "    Converts a value from one unit to another.\n",
        "\n",
        "    Parameters:\n",
        "        value (float): The value to be converted.\n",
        "        from_unit (str): The unit to convert from.\n",
        "        to_unit (str): The unit to convert to.\n",
        "\n",
        "    Returns:\n",
        "        float: The converted value.\n",
        "    \"\"\"\n",
        "    # Length conversions\n",
        "    if from_unit == \"m\" and to_unit == \"ft\":\n",
        "        return value * 3.28084\n",
        "    elif from_unit == \"ft\" and to_unit == \"m\":\n",
        "        return value / 3.28084\n",
        "\n",
        "    # Weight conversions\n",
        "    elif from_unit == \"kg\" and to_unit == \"lbs\":\n",
        "        return value * 2.20462\n",
        "    elif from_unit == \"lbs\" and to_unit == \"kg\":\n",
        "        return value / 2.20462\n",
        "\n",
        "    # Volume conversions\n",
        "    elif from_unit == \"L\" and to_unit == \"gal\":\n",
        "        return value * 0.264172\n",
        "    elif from_unit == \"gal\" and to_unit == \"L\":\n",
        "        return value / 0.264172\n",
        "\n",
        "    else:\n",
        "        raise ValueError(\"Unsupported conversion type.\")\n",
        "\n",
        "def main():\n",
        "    print(\"Unit Conversion Program\")\n",
        "    print(\"Supported conversion types:\")\n",
        "    print(\"1. Length: meters (m) to feet (ft) and vice versa\")\n",
        "    print(\"2. Weight: kilograms (kg) to pounds (lbs) and vice versa\")\n",
        "    print(\"3. Volume: liters (L) to gallons (gal) and vice versa\")\n",
        "\n",
        "    try:\n",
        "        conversion_type = input(\"Enter the conversion type (length, weight, volume): \").strip().lower()\n",
        "\n",
        "        if conversion_type not in [\"length\", \"weight\", \"volume\"]:\n",
        "            print(\"Error: Invalid conversion type.\")\n",
        "            return\n",
        "\n",
        "\n",
        "        value = float(input(\"Enter the value to convert: \"))\n",
        "\n",
        "        if conversion_type == \"length\":\n",
        "            from_unit = input(\"Convert from (m/ft): \").strip().lower()\n",
        "            to_unit = input(\"Convert to (m/ft): \").strip().lower()\n",
        "        elif conversion_type == \"weight\":\n",
        "            from_unit = input(\"Convert from (kg/lbs): \").strip().lower()\n",
        "            to_unit = input(\"Convert to (kg/lbs): \").strip().lower()\n",
        "        elif conversion_type == \"volume\":\n",
        "            from_unit = input(\"Convert from (L/gal): \").strip().lower()\n",
        "            to_unit = input(\"Convert to (L/gal): \").strip().lower()\n",
        "\n",
        "\n",
        "        result = convert_units(value, from_unit, to_unit)\n",
        "        print(f\"{value} {from_unit} is equal to {result:.2f} {to_unit}\")\n",
        "\n",
        "    except ValueError as e:\n",
        "        print(f\"Error: {e}\")\n",
        "    except Exception as e:\n",
        "        print(f\"An unexpected error occurred: {e}\")\n",
        "\n",
        "if __name__ == \"__main__\":\n",
        "    main()"
      ]
    },
    {
      "cell_type": "markdown",
      "source": [
        "Task - 2:\n",
        "Create a Python program that performs various mathematical operations on a list of numbers."
      ],
      "metadata": {
        "id": "PWwPLgwlzwzm"
      }
    },
    {
      "cell_type": "code",
      "source": [
        "def calculate_sum(numbers):\n",
        "    \"\"\"\n",
        "    Calculate the sum of a list of numbers.\n",
        "\n",
        "    Parameters:\n",
        "        numbers (list): A list of numeric values.\n",
        "\n",
        "    Returns:\n",
        "        float: The sum of the numbers.\n",
        "    \"\"\"\n",
        "    return sum(numbers)\n",
        "\n",
        "def calculate_average(numbers):\n",
        "    \"\"\"\n",
        "    Calculate the average of a list of numbers.\n",
        "\n",
        "    Parameters:\n",
        "        numbers (list): A list of numeric values.\n",
        "\n",
        "    Returns:\n",
        "        float: The average of the numbers.\n",
        "    \"\"\"\n",
        "    return sum(numbers) / len(numbers)\n",
        "\n",
        "def find_maximum(numbers):\n",
        "    \"\"\"\n",
        "    Find the maximum value in a list of numbers.\n",
        "\n",
        "    Parameters:\n",
        "        numbers (list): A list of numeric values.\n",
        "\n",
        "    Returns:\n",
        "        float: The maximum value in the list.\n",
        "    \"\"\"\n",
        "    return max(numbers)\n",
        "\n",
        "def find_minimum(numbers):\n",
        "    \"\"\"\n",
        "    Find the minimum value in a list of numbers.\n",
        "\n",
        "    Parameters:\n",
        "        numbers (list): A list of numeric values.\n",
        "\n",
        "    Returns:\n",
        "        float: The minimum value in the list.\n",
        "    \"\"\"\n",
        "    return min(numbers)\n",
        "\n",
        "def main():\n",
        "    print(\"Mathematical Operations Program\")\n",
        "    print(\"Supported operations:\")\n",
        "    print(\"1. Sum\")\n",
        "    print(\"2. Average\")\n",
        "    print(\"3. Maximum\")\n",
        "    print(\"4. Minimum\")\n",
        "\n",
        "    try:\n",
        "        operation = input(\"Enter the operation (sum, average, maximum, minimum): \").strip().lower()\n",
        "\n",
        "        if operation not in [\"sum\", \"average\", \"maximum\", \"minimum\"]:\n",
        "            print(\"Error: Invalid operation.\")\n",
        "            return\n",
        "\n",
        "        input_numbers = input(\"Enter a list of numbers separated by spaces: \").strip()\n",
        "        if not input_numbers:\n",
        "            raise ValueError(\"Empty input. Please enter at least one number.\")\n",
        "\n",
        "        numbers = list(map(float, input_numbers.split()))\n",
        "\n",
        "        if operation == \"sum\":\n",
        "            result = calculate_sum(numbers)\n",
        "            print(f\"The sum of the numbers is: {result}\")\n",
        "        elif operation == \"average\":\n",
        "            result = calculate_average(numbers)\n",
        "            print(f\"The average of the numbers is: {result}\")\n",
        "        elif operation == \"maximum\":\n",
        "            result = find_maximum(numbers)\n",
        "            print(f\"The maximum number is: {result}\")\n",
        "        elif operation == \"minimum\":\n",
        "            result = find_minimum(numbers)\n",
        "            print(f\"The minimum number is: {result}\")\n",
        "\n",
        "    except ValueError as e:\n",
        "        print(f\"Error: {e}\")\n",
        "    except ZeroDivisionError:\n",
        "        print(\"Error: Cannot calculate average of an empty list.\")\n",
        "    except Exception as e:\n",
        "        print(f\"An unexpected error occurred: {e}\")\n",
        "\n",
        "if __name__ == \"__main__\":\n",
        "    main()"
      ],
      "metadata": {
        "colab": {
          "base_uri": "https://localhost:8080/"
        },
        "id": "aRsBWrS5zzN3",
        "outputId": "a5f864b1-c08e-44d6-efa0-5cf604bc69a2"
      },
      "execution_count": null,
      "outputs": [
        {
          "output_type": "stream",
          "name": "stdout",
          "text": [
            "Mathematical Operations Program\n",
            "Supported operations:\n",
            "1. Sum\n",
            "2. Average\n",
            "3. Maximum\n",
            "4. Minimum\n",
            "Enter the operation (sum, average, maximum, minimum): average\n",
            "Enter a list of numbers separated by spaces: 1 2  3 4 5\n",
            "The average of the numbers is: 3.0\n"
          ]
        }
      ]
    },
    {
      "cell_type": "markdown",
      "source": [
        "#4.2 Exercise on List Manipulation:"
      ],
      "metadata": {
        "id": "OU8-oApE0aqm"
      }
    },
    {
      "cell_type": "markdown",
      "source": [
        "1. Extract Every Other Element:\n",
        "Write a Python function that extracts every other element from a list, starting from the first element."
      ],
      "metadata": {
        "id": "POW2Hs7e0cSm"
      }
    },
    {
      "cell_type": "code",
      "source": [
        "def extract_every_other(lst):\n",
        "    \"\"\"\n",
        "    Extracts every other element from a list, starting from the first element.\n",
        "\n",
        "    Parameters:\n",
        "        lst (list): The input list.\n",
        "\n",
        "    Returns:\n",
        "        list: A new list containing every other element from the original list.\n",
        "    \"\"\"\n",
        "    return lst[::2]\n",
        "\n",
        "\n",
        "input_list = [1, 2, 3, 4, 5, 6]\n",
        "result = extract_every_other(input_list)\n",
        "print(result)"
      ],
      "metadata": {
        "colab": {
          "base_uri": "https://localhost:8080/"
        },
        "id": "_ifX_2mp0fUe",
        "outputId": "9e6844e6-06b1-48f9-b9db-f18f610bbfaf"
      },
      "execution_count": null,
      "outputs": [
        {
          "output_type": "stream",
          "name": "stdout",
          "text": [
            "[1, 3, 5]\n"
          ]
        }
      ]
    },
    {
      "cell_type": "markdown",
      "source": [
        "2. Slice a Sublist:\n",
        "Write a Python function that returns a sublist from a given list, starting from a specified index and\n",
        "ending at another specified index."
      ],
      "metadata": {
        "id": "pEqrrch21HF_"
      }
    },
    {
      "cell_type": "code",
      "source": [
        "def get_sublist(lst, start, end):\n",
        "    \"\"\"\n",
        "    Returns a sublist from a given list, starting from a specified index and ending at another specified index (inclusive).\n",
        "\n",
        "    Parameters:\n",
        "        lst (list): The input list.\n",
        "        start (int): The starting index (inclusive).\n",
        "        end (int): The ending index (inclusive).\n",
        "\n",
        "    Returns:\n",
        "        list: The sublist from start to end (inclusive).\n",
        "    \"\"\"\n",
        "    return lst[start:end + 1]\n",
        "\n",
        "input_list = [1, 2, 3, 4, 5, 6]\n",
        "start_index = 2\n",
        "end_index = 4\n",
        "result = get_sublist(input_list, start_index, end_index)\n",
        "print(result)"
      ],
      "metadata": {
        "colab": {
          "base_uri": "https://localhost:8080/"
        },
        "id": "u0Zan1Wc1LHX",
        "outputId": "bb4bf8d7-6d7e-462d-9fd8-4b15e071d75c"
      },
      "execution_count": null,
      "outputs": [
        {
          "output_type": "stream",
          "name": "stdout",
          "text": [
            "[3, 4, 5]\n"
          ]
        }
      ]
    },
    {
      "cell_type": "markdown",
      "source": [
        "3. Reverse a List Using Slicing:\n",
        "Write a Python function that reverses a list using slicing."
      ],
      "metadata": {
        "id": "WnHpVH911Xre"
      }
    },
    {
      "cell_type": "code",
      "source": [
        "def reverse_list(lst):\n",
        "    \"\"\"\n",
        "    Reverses a list using slicing.\n",
        "\n",
        "    Parameters:\n",
        "        lst (list): The input list.\n",
        "\n",
        "    Returns:\n",
        "        list: The reversed list.\n",
        "    \"\"\"\n",
        "    return lst[::-1]\n",
        "\n",
        "input_list = [1, 2, 3, 4, 5]\n",
        "result = reverse_list(input_list)\n",
        "print(result)\n"
      ],
      "metadata": {
        "colab": {
          "base_uri": "https://localhost:8080/"
        },
        "id": "jdOGZZ5A1YLm",
        "outputId": "4aff9a77-7c92-4399-a947-0e444c204d4f"
      },
      "execution_count": null,
      "outputs": [
        {
          "output_type": "stream",
          "name": "stdout",
          "text": [
            "[5, 4, 3, 2, 1]\n"
          ]
        }
      ]
    },
    {
      "cell_type": "markdown",
      "source": [
        "4. Remove the First and Last Elements:\n",
        "Write a Python function that removes the first and last elements of a list and returns the resulting\n",
        "sublist."
      ],
      "metadata": {
        "id": "V4vtjqR51ngN"
      }
    },
    {
      "cell_type": "code",
      "source": [
        "def remove_first_last(lst):\n",
        "    \"\"\"\n",
        "    Removes the first and last elements of a list and returns the resulting sublist.\n",
        "\n",
        "    Parameters:\n",
        "        lst (list): The input list.\n",
        "\n",
        "    Returns:\n",
        "        list: The list without the first and last elements.\n",
        "    \"\"\"\n",
        "    return lst[1:-1]\n",
        "\n",
        "input_list = [1, 2, 3, 4, 5]\n",
        "result = remove_first_last(input_list)\n",
        "print(result)\n"
      ],
      "metadata": {
        "colab": {
          "base_uri": "https://localhost:8080/"
        },
        "id": "ZmdcpfvN1qLo",
        "outputId": "71dd4e94-7f15-460b-ac2e-a6d70ab5e55f"
      },
      "execution_count": null,
      "outputs": [
        {
          "output_type": "stream",
          "name": "stdout",
          "text": [
            "[2, 3, 4]\n"
          ]
        }
      ]
    },
    {
      "cell_type": "markdown",
      "source": [
        "5. Get the First n Elements:\n",
        "Write a Python function that extracts the first n elements from a list."
      ],
      "metadata": {
        "id": "RsuwoNJT12Bv"
      }
    },
    {
      "cell_type": "code",
      "source": [
        "def get_first_n(lst, n):\n",
        "    \"\"\"\n",
        "    Extracts the first n elements from a list using slicing.\n",
        "\n",
        "    Parameters:\n",
        "        lst (list): The input list.\n",
        "        n (int): The number of elements to extract.\n",
        "\n",
        "    Returns:\n",
        "        list: A list containing the first n elements of the input list.\n",
        "    \"\"\"\n",
        "    return lst[:n]\n",
        "\n",
        "input_list = [1, 2, 3, 4, 5]\n",
        "n = 3\n",
        "result = get_first_n(input_list, n)\n",
        "print(result)\n"
      ],
      "metadata": {
        "colab": {
          "base_uri": "https://localhost:8080/"
        },
        "id": "E_N74aCi1383",
        "outputId": "fb6961d9-0692-446a-9c56-1ca72906449f"
      },
      "execution_count": null,
      "outputs": [
        {
          "output_type": "stream",
          "name": "stdout",
          "text": [
            "[1, 2, 3]\n"
          ]
        }
      ]
    },
    {
      "cell_type": "markdown",
      "source": [
        "6. Extract Elements from the End:\n",
        "Write a Python function that extracts the last n elements of a list using slicing."
      ],
      "metadata": {
        "id": "05Vtv1Be2Gym"
      }
    },
    {
      "cell_type": "code",
      "source": [
        "def get_last_n(lst, n):\n",
        "    \"\"\"\n",
        "    Extracts the last n elements from a list using slicing.\n",
        "\n",
        "    Parameters:\n",
        "        lst (list): The input list.\n",
        "        n (int): The number of elements to extract from the end.\n",
        "\n",
        "    Returns:\n",
        "        list: A list containing the last n elements of the input list.\n",
        "    \"\"\"\n",
        "    return lst[-n:]\n",
        "\n",
        "input_list = [1, 2, 3, 4, 5]\n",
        "n = 2\n",
        "result = get_last_n(input_list, n)\n",
        "print(result)\n"
      ],
      "metadata": {
        "colab": {
          "base_uri": "https://localhost:8080/"
        },
        "id": "UyhfM6iQ2JI4",
        "outputId": "b090d6d5-41b1-4860-a187-2c65b7fe5b68"
      },
      "execution_count": null,
      "outputs": [
        {
          "output_type": "stream",
          "name": "stdout",
          "text": [
            "[4, 5]\n"
          ]
        }
      ]
    },
    {
      "cell_type": "markdown",
      "source": [
        "7. Extract Elements in Reverse Order:\n",
        "Write a Python function that extracts a list of elements in reverse order starting from the second-to-last\n",
        "element and skipping one element in between."
      ],
      "metadata": {
        "id": "ZXNWXWxV2Wi2"
      }
    },
    {
      "cell_type": "code",
      "source": [
        "def reverse_skip(lst):\n",
        "    \"\"\"\n",
        "    Extracts a list of elements in reverse order starting from the second-to-last element\n",
        "    and skipping one element in between.\n",
        "\n",
        "    Parameters:\n",
        "        lst (list): The input list.\n",
        "\n",
        "    Returns:\n",
        "        list: A new list containing every second element starting from the second-to-last,\n",
        "              moving backward.\n",
        "    \"\"\"\n",
        "    return lst[-2::-2]\n",
        "\n",
        "\n",
        "input_list = [1, 2, 3, 4, 5, 6]\n",
        "result = reverse_skip(input_list)\n",
        "print(result)\n"
      ],
      "metadata": {
        "colab": {
          "base_uri": "https://localhost:8080/"
        },
        "id": "dnM2YIId2YHQ",
        "outputId": "d2737acc-94f5-4e08-8763-b89c9ddb16ad"
      },
      "execution_count": null,
      "outputs": [
        {
          "output_type": "stream",
          "name": "stdout",
          "text": [
            "[5, 3, 1]\n"
          ]
        }
      ]
    },
    {
      "cell_type": "markdown",
      "source": [
        "#4.3 Exercise on Nested List:"
      ],
      "metadata": {
        "id": "zE9M3HKA2f-u"
      }
    },
    {
      "cell_type": "markdown",
      "source": [
        "1. Flatten a Nested List:\n",
        "Write a Python function that takes a nested list and flattens it into a single list, where all the elements\n",
        "are in a single dimension."
      ],
      "metadata": {
        "id": "ENvTjO752iA3"
      }
    },
    {
      "cell_type": "code",
      "source": [
        "def flatten(lst):\n",
        "    \"\"\"\n",
        "    Flattens a nested list into a single list, where all the elements are in a single dimension.\n",
        "\n",
        "    Parameters:\n",
        "        lst (list): The input nested list.\n",
        "\n",
        "    Returns:\n",
        "        list: A flattened version of the list.\n",
        "    \"\"\"\n",
        "    flattened_list = []\n",
        "    for sublist in lst:\n",
        "        if isinstance(sublist, list):\n",
        "            flattened_list.extend(flatten(sublist))  # Recursively flatten if the element is a list\n",
        "        else:\n",
        "            flattened_list.append(sublist)  # Append the element if it's not a list\n",
        "    return flattened_list\n",
        "\n",
        "nested_list = [[1, 2], [3, 4], [5]]\n",
        "result = flatten(nested_list)\n",
        "print(result)\n"
      ],
      "metadata": {
        "colab": {
          "base_uri": "https://localhost:8080/"
        },
        "id": "7AAOr4CL2j3f",
        "outputId": "6e6138e4-4892-4fbe-b0ab-75c401d4a0d8"
      },
      "execution_count": null,
      "outputs": [
        {
          "output_type": "stream",
          "name": "stdout",
          "text": [
            "[1, 2, 3, 4, 5]\n"
          ]
        }
      ]
    },
    {
      "cell_type": "markdown",
      "source": [
        "2. Accessing Nested List Elements:\n",
        "Write a Python function that extracts a specific element from a nested list given its indices."
      ],
      "metadata": {
        "id": "cdSQJ12E2vXO"
      }
    },
    {
      "cell_type": "code",
      "source": [
        "def access_nested_element(lst, indices):\n",
        "    \"\"\"\n",
        "    Extracts an element from a nested list using a list of indices.\n",
        "\n",
        "    Parameters:\n",
        "        lst (list): The nested list.\n",
        "        indices (list): A list of integers representing the indices to access the element.\n",
        "\n",
        "    Returns:\n",
        "        The element at the specified position in the nested list.\n",
        "    \"\"\"\n",
        "    for index in indices:\n",
        "        lst = lst[index]\n",
        "    return lst\n",
        "\n",
        "nested_list = [[1, 2, 3], [4, 5, 6], [7, 8, 9]]\n",
        "indices = [1, 2]\n",
        "result = access_nested_element(nested_list, indices)\n",
        "print(result)\n"
      ],
      "metadata": {
        "colab": {
          "base_uri": "https://localhost:8080/"
        },
        "id": "1gGZKcaD2vFX",
        "outputId": "3340f9a3-edde-408c-d066-9a2f002e6255"
      },
      "execution_count": null,
      "outputs": [
        {
          "output_type": "stream",
          "name": "stdout",
          "text": [
            "6\n"
          ]
        }
      ]
    },
    {
      "cell_type": "markdown",
      "source": [
        "3. Sum of All Elements in a Nested List:\n",
        "Write a Python function that calculates the sum of all the numbers in a nested list (regardless of depth)."
      ],
      "metadata": {
        "id": "RXokPuet25An"
      }
    },
    {
      "cell_type": "code",
      "source": [
        "def sum_nested(lst):\n",
        "    \"\"\"\n",
        "    Calculates the sum of all the numbers in a nested list (regardless of depth).\n",
        "\n",
        "    Parameters:\n",
        "        lst (list): The nested list.\n",
        "\n",
        "    Returns:\n",
        "        int/float: The sum of all the elements in the nested list.\n",
        "    \"\"\"\n",
        "    total = 0\n",
        "    for element in lst:\n",
        "        if isinstance(element, list):\n",
        "            total += sum_nested(element)  # Recursively sum nested lists\n",
        "        else:\n",
        "            total += element  # Add the element if it's a number\n",
        "    return total\n",
        "\n",
        "nested_list = [[1, 2], [3, [4, 5]], 6]\n",
        "result = sum_nested(nested_list)\n",
        "print(result)\n"
      ],
      "metadata": {
        "colab": {
          "base_uri": "https://localhost:8080/"
        },
        "id": "nk-STvEE27Wf",
        "outputId": "0c69cf45-34ac-4bcf-fe5a-c404508eccab"
      },
      "execution_count": null,
      "outputs": [
        {
          "output_type": "stream",
          "name": "stdout",
          "text": [
            "21\n"
          ]
        }
      ]
    },
    {
      "cell_type": "markdown",
      "source": [
        "4. Remove Specific Element from a Nested List:\n",
        "Write a Python function that removes all occurrences of a specific element from a nested list."
      ],
      "metadata": {
        "id": "Gmt-AZGE3BmP"
      }
    },
    {
      "cell_type": "code",
      "source": [
        "def remove_element(lst, elem):\n",
        "    \"\"\"\n",
        "    Removes all occurrences of a specific element from a nested list.\n",
        "\n",
        "    Parameters:\n",
        "        lst (list): The input nested list.\n",
        "        elem: The element to remove.\n",
        "\n",
        "    Returns:\n",
        "        list: The modified list with all occurrences of `elem` removed.\n",
        "    \"\"\"\n",
        "    return [[item for item in sublist if item != elem] for sublist in lst]\n",
        "\n",
        "\n",
        "input_list = [[1, 2], [3, 2], [4, 5]]\n",
        "element_to_remove = 2\n",
        "result = remove_element(input_list, element_to_remove)\n",
        "print(result)"
      ],
      "metadata": {
        "colab": {
          "base_uri": "https://localhost:8080/"
        },
        "id": "-zjJWlMM3De3",
        "outputId": "a0aad81e-6190-4652-e399-6cc56547c259"
      },
      "execution_count": null,
      "outputs": [
        {
          "output_type": "stream",
          "name": "stdout",
          "text": [
            "[[1], [3], [4, 5]]\n"
          ]
        }
      ]
    },
    {
      "cell_type": "markdown",
      "source": [
        "5. Find the Maximum Element in a Nested List:\n",
        "Write a Python function that finds the maximum element in a nested list (regardless of depth)."
      ],
      "metadata": {
        "id": "yK5F0Dso5Xhp"
      }
    },
    {
      "cell_type": "code",
      "source": [
        "def find_max(lst):\n",
        "    \"\"\"\n",
        "    Finds the maximum element in a nested list, regardless of depth.\n",
        "\n",
        "    Parameters:\n",
        "        lst (list): The input nested list.\n",
        "\n",
        "    Returns:\n",
        "        int or float: The maximum element in the nested list.\n",
        "    \"\"\"\n",
        "    max_value = float('-inf')\n",
        "\n",
        "    def traverse(nested):\n",
        "        nonlocal max_value\n",
        "        for item in nested:\n",
        "            if isinstance(item, list):\n",
        "                traverse(item)  # Recursively traverse nested lists\n",
        "            else:\n",
        "                if item > max_value:\n",
        "                    max_value = item  # Update max_value if a larger element is found\n",
        "\n",
        "    traverse(lst)\n",
        "    return max_value\n",
        "\n",
        "\n",
        "input_list = [[1, 2], [3, [4, 5]], 6]\n",
        "result = find_max(input_list)\n",
        "print(result)"
      ],
      "metadata": {
        "colab": {
          "base_uri": "https://localhost:8080/"
        },
        "id": "rfixfgZd5YTg",
        "outputId": "44c01c52-c1e3-4fc8-8adf-81b18c270631"
      },
      "execution_count": null,
      "outputs": [
        {
          "output_type": "stream",
          "name": "stdout",
          "text": [
            "6\n"
          ]
        }
      ]
    },
    {
      "cell_type": "markdown",
      "source": [
        "6. Count Occurrences of an Element in a Nested List:\n",
        "Write a Python function that counts how many times a specific element appears in a nested list."
      ],
      "metadata": {
        "id": "92nc3kSf5q8N"
      }
    },
    {
      "cell_type": "code",
      "source": [
        "def count_occurrences(lst, elem):\n",
        "    \"\"\"\n",
        "    Counts how many times a specific element appears in a nested list.\n",
        "\n",
        "    Parameters:\n",
        "        lst (list): The input nested list.\n",
        "        elem (int or any): The element whose occurrences are to be counted.\n",
        "\n",
        "    Returns:\n",
        "        int: The number of times elem appears in the nested list.\n",
        "    \"\"\"\n",
        "    count = 0\n",
        "\n",
        "    def traverse(nested):\n",
        "        nonlocal count\n",
        "        for item in nested:\n",
        "            if isinstance(item, list):\n",
        "                traverse(item)\n",
        "            else:\n",
        "                if item == elem:\n",
        "                    count += 1\n",
        "\n",
        "    traverse(lst)\n",
        "    return count\n",
        "\n",
        "\n",
        "input_list = [[1, 2], [2, 3], [2, 4]]\n",
        "element_to_count = 2\n",
        "result = count_occurrences(input_list, element_to_count)\n",
        "print(result)\n"
      ],
      "metadata": {
        "colab": {
          "base_uri": "https://localhost:8080/"
        },
        "id": "_VcTFbpy5sOO",
        "outputId": "a5aff95c-53d0-4aef-b053-5961a34e1876"
      },
      "execution_count": null,
      "outputs": [
        {
          "output_type": "stream",
          "name": "stdout",
          "text": [
            "3\n"
          ]
        }
      ]
    },
    {
      "cell_type": "markdown",
      "source": [
        "7. Flatten a List of Lists of Lists:\n",
        "Write a Python function that flattens a list of lists of lists into a single list, regardless of the depth.\n"
      ],
      "metadata": {
        "id": "VzuZglPg5-Xw"
      }
    },
    {
      "cell_type": "code",
      "source": [
        "def deep_flatten(lst):\n",
        "    \"\"\"\n",
        "    Flattens a deeply nested list into a single list.\n",
        "\n",
        "    Parameters:\n",
        "        lst (list): The input deeply nested list.\n",
        "\n",
        "    Returns:\n",
        "        list: The flattened list.\n",
        "    \"\"\"\n",
        "    flattened = []\n",
        "\n",
        "    for item in lst:\n",
        "        if isinstance(item, list):\n",
        "            flattened.extend(deep_flatten(item))\n",
        "        else:\n",
        "            flattened.append(item)\n",
        "\n",
        "    return flattened\n",
        "\n",
        "input_list = [[[1, 2], [3, 4]], [[5, 6], [7, 8]]]\n",
        "result = deep_flatten(input_list)\n",
        "print(result)\n"
      ],
      "metadata": {
        "colab": {
          "base_uri": "https://localhost:8080/"
        },
        "id": "81tbcj3G6GQu",
        "outputId": "f117ffe5-c0e7-4550-bbb0-58d0ff17f977"
      },
      "execution_count": null,
      "outputs": [
        {
          "output_type": "stream",
          "name": "stdout",
          "text": [
            "[1, 2, 3, 4, 5, 6, 7, 8]\n"
          ]
        }
      ]
    },
    {
      "cell_type": "markdown",
      "source": [
        "8. Nested List Average:\n",
        "Write a Python function that calculates the average of all elements in a nested list.\n"
      ],
      "metadata": {
        "id": "DTMLzgFo6Gyo"
      }
    },
    {
      "cell_type": "code",
      "source": [
        "def average_nested(lst):\n",
        "    \"\"\"\n",
        "    Calculates the average of all elements in a nested list.\n",
        "\n",
        "    Parameters:\n",
        "        lst (list): The input nested list.\n",
        "\n",
        "    Returns:\n",
        "        float: The average of all the elements in the nested list.\n",
        "    \"\"\"\n",
        "    total_sum = 0  # Initialize a variable to store the sum of all elements\n",
        "    total_count = 0  # Initialize a variable to count the total number of elements\n",
        "\n",
        "    def traverse(nested):\n",
        "        nonlocal total_sum, total_count\n",
        "        for item in nested:\n",
        "            if isinstance(item, list):  # If the item is a list, recursively traverse it\n",
        "                traverse(item)\n",
        "            else:\n",
        "                total_sum += item  # Add the item to the sum\n",
        "                total_count += 1  # Increment the count of elements\n",
        "\n",
        "    traverse(lst)\n",
        "\n",
        "    if total_count == 0:  # Avoid division by zero\n",
        "        return 0\n",
        "    return total_sum / total_count\n",
        "\n",
        "input_list = [[1, 2], [3, 4], [5, 6]]\n",
        "result = average_nested(input_list)\n",
        "print(result)\n"
      ],
      "metadata": {
        "colab": {
          "base_uri": "https://localhost:8080/"
        },
        "id": "tuzRMhcC6Rie",
        "outputId": "c0e5031c-0c22-490b-8069-fced4f9edbc8"
      },
      "execution_count": null,
      "outputs": [
        {
          "output_type": "stream",
          "name": "stdout",
          "text": [
            "3.5\n"
          ]
        }
      ]
    },
    {
      "cell_type": "markdown",
      "source": [
        "#10.1 Basic Vector and Matrix Operation with Numpy."
      ],
      "metadata": {
        "id": "LPLOK9V57XJB"
      }
    },
    {
      "cell_type": "markdown",
      "source": [
        "Problem - 1: Array Creation:"
      ],
      "metadata": {
        "id": "q6m98Kyd7d0w"
      }
    },
    {
      "cell_type": "code",
      "source": [
        "import numpy as np\n",
        "\n",
        "#  empty array with size 2x2\n",
        "empty_array = np.empty((2, 2))\n",
        "print(\"Empty array (2x2):\")\n",
        "print(empty_array)\n",
        "\n",
        "# T all-ones array with size 4x2\n",
        "ones_array = np.ones((4, 2))\n",
        "print(\"\\nAll ones array (4x2):\")\n",
        "print(ones_array)\n",
        "\n",
        "# Return a new array filled with the fill value\n",
        "filled_array = np.full((3, 3), 7, dtype=int)\n",
        "print(\"\\nArray filled with 7 (3x3):\")\n",
        "print(filled_array)\n",
        "\n",
        "# Return a new array of zeros with same shape and type as the given array\n",
        "existing_array = np.array([[1, 2], [3, 4]])\n",
        "zeros_like_array = np.zeros_like(existing_array)\n",
        "print(\"\\nArray of zeros with same shape as existing array:\")\n",
        "print(zeros_like_array)\n",
        "\n",
        "# Return a new array of ones with same shape and type as the given array\n",
        "ones_like_array = np.ones_like(existing_array)\n",
        "print(\"\\nArray of ones with same shape as existing array:\")\n",
        "print(ones_like_array)\n",
        "\n",
        "#Convert list to NumPy array\n",
        "new_list = [1, 2, 3, 4]\n",
        "numpy_array = np.array(new_list)\n",
        "print(\"\\nConverted NumPy array from list:\")\n",
        "print(numpy_array)\n"
      ],
      "metadata": {
        "colab": {
          "base_uri": "https://localhost:8080/"
        },
        "id": "9KaTEwnx7Z6n",
        "outputId": "a441a88b-7a43-4ec8-e4e6-8d12197cdf56"
      },
      "execution_count": null,
      "outputs": [
        {
          "output_type": "stream",
          "name": "stdout",
          "text": [
            "Empty array (2x2):\n",
            "[[3.47695828e-316 0.00000000e+000]\n",
            " [2.12199579e-314 6.36598737e-314]]\n",
            "\n",
            "All ones array (4x2):\n",
            "[[1. 1.]\n",
            " [1. 1.]\n",
            " [1. 1.]\n",
            " [1. 1.]]\n",
            "\n",
            "Array filled with 7 (3x3):\n",
            "[[7 7 7]\n",
            " [7 7 7]\n",
            " [7 7 7]]\n",
            "\n",
            "Array of zeros with same shape as existing array:\n",
            "[[0 0]\n",
            " [0 0]]\n",
            "\n",
            "Array of ones with same shape as existing array:\n",
            "[[1 1]\n",
            " [1 1]]\n",
            "\n",
            "Converted NumPy array from list:\n",
            "[1 2 3 4]\n"
          ]
        }
      ]
    },
    {
      "cell_type": "markdown",
      "source": [
        "Problem - 2: Array Manipulation: Numerical Ranges and Array indexing:"
      ],
      "metadata": {
        "id": "WXIEgh7l7oE2"
      }
    },
    {
      "cell_type": "code",
      "source": [
        "import numpy as np\n",
        "\n",
        "# Task 1: Create an array with values ranging from 10 to 49\n",
        "array_10_to_49 = np.arange(10, 50)\n",
        "print(\"Array from 10 to 49:\")\n",
        "print(array_10_to_49)\n",
        "\n",
        "# Task 2: Create a 3x3 matrix with values ranging from 0 to 8\n",
        "matrix_3x3 = np.arange(9).reshape(3, 3)\n",
        "print(\"\\n3x3 Matrix with values from 0 to 8:\")\n",
        "print(matrix_3x3)\n",
        "\n",
        "# Task 3: Create a 3x3 identity matrix\n",
        "identity_matrix = np.eye(3)\n",
        "print(\"\\n3x3 Identity Matrix:\")\n",
        "print(identity_matrix)\n",
        "\n",
        "# Task 4: Create a random array of size 30 and find the mean of the array\n",
        "random_array = np.random.random(30)\n",
        "mean_value = random_array.mean()\n",
        "print(\"\\nRandom Array of size 30:\")\n",
        "print(random_array)\n",
        "print(f\"Mean of the array: {mean_value}\")\n",
        "\n",
        "# Task 5: Create a 10x10 array with random values and find the minimum and maximum values\n",
        "random_10x10 = np.random.random((10, 10))\n",
        "min_value = random_10x10.min()\n",
        "max_value = random_10x10.max()\n",
        "print(\"\\n10x10 Random Array:\")\n",
        "print(random_10x10)\n",
        "print(f\"Minimum value: {min_value}, Maximum value: {max_value}\")\n",
        "\n",
        "# Task 6: Create a zero array of size 10 and replace the 5th element with 1\n",
        "zero_array = np.zeros(10)\n",
        "zero_array[4] = 1\n",
        "print(\"\\nZero Array with 5th element replaced with 1:\")\n",
        "print(zero_array)\n",
        "\n",
        "# Task 7: Reverse an array arr = [1, 2, 0, 0, 4, 0]\n",
        "arr = np.array([1, 2, 0, 0, 4, 0])\n",
        "reversed_arr = arr[::-1]\n",
        "print(\"\\nReversed Array:\")\n",
        "print(reversed_arr)\n",
        "\n",
        "# Task 8: Create a 2D array with 1 on the border and 0 inside\n",
        "border_array = np.ones((5, 5))\n",
        "border_array[1:-1, 1:-1] = 0\n",
        "print(\"\\n2D Array with 1 on the border and 0 inside:\")\n",
        "print(border_array)\n",
        "\n",
        "# Task 9: Create an 8x8 matrix and fill it with a checkerboard pattern\n",
        "checkerboard_pattern = np.zeros((8, 8))\n",
        "checkerboard_pattern[1::2, ::2] = 1  # Fill alternate positions with 1\n",
        "checkerboard_pattern[::2, 1::2] = 1  # Fill alternate positions with 1\n",
        "print(\"\\n8x8 Checkerboard Pattern:\")\n",
        "print(checkerboard_pattern)\n"
      ],
      "metadata": {
        "colab": {
          "base_uri": "https://localhost:8080/"
        },
        "id": "cVInxkoH72Ln",
        "outputId": "433c16f9-90bc-4fcc-f39c-e67e47cf6f35"
      },
      "execution_count": null,
      "outputs": [
        {
          "output_type": "stream",
          "name": "stdout",
          "text": [
            "Array from 10 to 49:\n",
            "[10 11 12 13 14 15 16 17 18 19 20 21 22 23 24 25 26 27 28 29 30 31 32 33\n",
            " 34 35 36 37 38 39 40 41 42 43 44 45 46 47 48 49]\n",
            "\n",
            "3x3 Matrix with values from 0 to 8:\n",
            "[[0 1 2]\n",
            " [3 4 5]\n",
            " [6 7 8]]\n",
            "\n",
            "3x3 Identity Matrix:\n",
            "[[1. 0. 0.]\n",
            " [0. 1. 0.]\n",
            " [0. 0. 1.]]\n",
            "\n",
            "Random Array of size 30:\n",
            "[0.89598712 0.97470465 0.9549587  0.26093627 0.42989871 0.75484546\n",
            " 0.99349741 0.38932325 0.4576409  0.8251537  0.84345272 0.34496704\n",
            " 0.91185882 0.53751927 0.4237168  0.58934062 0.20762817 0.08831161\n",
            " 0.94399667 0.76598509 0.31703074 0.57342813 0.43459599 0.36503932\n",
            " 0.1763216  0.40912289 0.58327549 0.84232978 0.79640031 0.43283182]\n",
            "Mean of the array: 0.5841366363350037\n",
            "\n",
            "10x10 Random Array:\n",
            "[[0.46848588 0.43344872 0.0919746  0.20931367 0.69476786 0.66930291\n",
            "  0.67785107 0.36425701 0.042375   0.2906841 ]\n",
            " [0.14483943 0.92084452 0.39714222 0.85053663 0.16338179 0.88540291\n",
            "  0.84745496 0.68454811 0.30242743 0.71547249]\n",
            " [0.13880941 0.51887243 0.8895643  0.18807477 0.12028063 0.16180169\n",
            "  0.69150668 0.67548226 0.49615375 0.51752095]\n",
            " [0.7417203  0.71432573 0.41785118 0.16317433 0.31613005 0.60651158\n",
            "  0.32886023 0.74708538 0.67784893 0.16929819]\n",
            " [0.91932835 0.67890481 0.97640292 0.55692573 0.36801643 0.20950605\n",
            "  0.32951244 0.55540494 0.85826361 0.31693699]\n",
            " [0.8728047  0.26556756 0.4334198  0.78875894 0.74344837 0.95153328\n",
            "  0.11283053 0.86256555 0.91098683 0.91299796]\n",
            " [0.93407311 0.08908077 0.60732356 0.90442359 0.29785583 0.43672457\n",
            "  0.73286994 0.78071983 0.47810922 0.04479622]\n",
            " [0.36387279 0.96146902 0.93324227 0.13957841 0.58683799 0.37573172\n",
            "  0.94833534 0.92861695 0.16710311 0.16014549]\n",
            " [0.47403678 0.82583058 0.48142398 0.89449479 0.0129244  0.32841105\n",
            "  0.54113342 0.92074402 0.83060267 0.91469457]\n",
            " [0.81039437 0.59099395 0.79319585 0.46514288 0.84747802 0.33193031\n",
            "  0.9067252  0.12581532 0.61178473 0.469329  ]]\n",
            "Minimum value: 0.012924395049267234, Maximum value: 0.9764029173411379\n",
            "\n",
            "Zero Array with 5th element replaced with 1:\n",
            "[0. 0. 0. 0. 1. 0. 0. 0. 0. 0.]\n",
            "\n",
            "Reversed Array:\n",
            "[0 4 0 0 2 1]\n",
            "\n",
            "2D Array with 1 on the border and 0 inside:\n",
            "[[1. 1. 1. 1. 1.]\n",
            " [1. 0. 0. 0. 1.]\n",
            " [1. 0. 0. 0. 1.]\n",
            " [1. 0. 0. 0. 1.]\n",
            " [1. 1. 1. 1. 1.]]\n",
            "\n",
            "8x8 Checkerboard Pattern:\n",
            "[[0. 1. 0. 1. 0. 1. 0. 1.]\n",
            " [1. 0. 1. 0. 1. 0. 1. 0.]\n",
            " [0. 1. 0. 1. 0. 1. 0. 1.]\n",
            " [1. 0. 1. 0. 1. 0. 1. 0.]\n",
            " [0. 1. 0. 1. 0. 1. 0. 1.]\n",
            " [1. 0. 1. 0. 1. 0. 1. 0.]\n",
            " [0. 1. 0. 1. 0. 1. 0. 1.]\n",
            " [1. 0. 1. 0. 1. 0. 1. 0.]]\n"
          ]
        }
      ]
    },
    {
      "cell_type": "markdown",
      "source": [
        "Problem - 3: Array Operations:"
      ],
      "metadata": {
        "id": "_M-3rzy672jW"
      }
    },
    {
      "cell_type": "code",
      "source": [
        "import numpy as np\n",
        "\n",
        "x = np.array([[1, 2], [3, 5]])\n",
        "y = np.array([[5, 6], [7, 8]])\n",
        "v = np.array([9, 10])\n",
        "w = np.array([11, 12])\n",
        "\n",
        "add_result = x + y\n",
        "print(\"1. Addition of x and y:\")\n",
        "print(add_result)\n",
        "\n",
        "subtract_result = x - y\n",
        "print(\"\\n2. Subtraction of x and y:\")\n",
        "print(subtract_result)\n",
        "\n",
        "multiply_x = x * 2\n",
        "multiply_y = y * 3\n",
        "print(\"\\n3. Multiplication of x by 2 and y by 3:\")\n",
        "print(multiply_x)\n",
        "print(multiply_y)\n",
        "\n",
        "square_x = np.square(x)\n",
        "square_y = np.square(y)\n",
        "print(\"\\n4. Square of each element in x and y:\")\n",
        "print(square_x)\n",
        "print(square_y)\n",
        "\n",
        "dot_vw = np.dot(v, w)\n",
        "dot_xv = np.dot(x, v)\n",
        "dot_xy = np.dot(x, y)\n",
        "print(\"\\n5. Dot Products:\")\n",
        "print(\"v . w =\", dot_vw)\n",
        "print(\"x . v =\", dot_xv)\n",
        "print(\"x . y =\", dot_xy)\n",
        "\n",
        "concat_xy_row = np.concatenate((x, y), axis=0)  # Concatenate along rows\n",
        "concat_vw_col = np.concatenate((v.reshape(-1, 1), w.reshape(-1, 1)), axis=1)  # Concatenate v and w along columns\n",
        "print(\"\\n6. Concatenate x and y along rows and v and w along columns:\")\n",
        "print(concat_xy_row)\n",
        "print(concat_vw_col)\n",
        "\n",
        "try:\n",
        "    concat_xv = np.concatenate((x, v), axis=0)\n",
        "    print(\"\\n7. Concatenate x and v:\")\n",
        "    print(concat_xv)\n",
        "except ValueError as e:\n",
        "    print(\"\\n7. Concatenation of x and v failed with error:\", e)\n"
      ],
      "metadata": {
        "colab": {
          "base_uri": "https://localhost:8080/"
        },
        "id": "vys-TXU07494",
        "outputId": "9710bd6f-b843-4bae-f154-a9c131eda14b"
      },
      "execution_count": null,
      "outputs": [
        {
          "output_type": "stream",
          "name": "stdout",
          "text": [
            "1. Addition of x and y:\n",
            "[[ 6  8]\n",
            " [10 13]]\n",
            "\n",
            "2. Subtraction of x and y:\n",
            "[[-4 -4]\n",
            " [-4 -3]]\n",
            "\n",
            "3. Multiplication of x by 2 and y by 3:\n",
            "[[ 2  4]\n",
            " [ 6 10]]\n",
            "[[15 18]\n",
            " [21 24]]\n",
            "\n",
            "4. Square of each element in x and y:\n",
            "[[ 1  4]\n",
            " [ 9 25]]\n",
            "[[25 36]\n",
            " [49 64]]\n",
            "\n",
            "5. Dot Products:\n",
            "v . w = 219\n",
            "x . v = [29 77]\n",
            "x . y = [[19 22]\n",
            " [50 58]]\n",
            "\n",
            "6. Concatenate x and y along rows and v and w along columns:\n",
            "[[1 2]\n",
            " [3 5]\n",
            " [5 6]\n",
            " [7 8]]\n",
            "[[ 9 11]\n",
            " [10 12]]\n",
            "\n",
            "7. Concatenation of x and v failed with error: all the input arrays must have same number of dimensions, but the array at index 0 has 2 dimension(s) and the array at index 1 has 1 dimension(s)\n"
          ]
        }
      ]
    },
    {
      "cell_type": "markdown",
      "source": [
        "Problem - 4: Matrix Operations:"
      ],
      "metadata": {
        "id": "tBmUJMmM8e9Y"
      }
    },
    {
      "cell_type": "code",
      "source": [
        "import numpy as np\n",
        "\n",
        "\n",
        "A = np.array([[3, 4], [7, 8]])\n",
        "B = np.array([[5, 3], [2, 1]])\n",
        "\n",
        "\n",
        "I = np.eye(2)  # 2x2 identity matrix\n",
        "\n",
        "# 1. Prove A * A^(-1) = I\n",
        "A_inv = np.linalg.inv(A)\n",
        "result_1 = np.dot(A, A_inv)\n",
        "print(\"1. A * A^(-1):\")\n",
        "print(result_1)\n",
        "\n",
        "# 2. Prove AB ≠ BA\n",
        "AB = np.dot(A, B)\n",
        "BA = np.dot(B, A)\n",
        "print(\"\\n2. AB != BA:\")\n",
        "print(\"AB =\\n\", AB)\n",
        "print(\"BA =\\n\", BA)\n",
        "\n",
        "# 3. Prove (AB)^T = B^T * A^T\n",
        "AB_T = np.transpose(AB)\n",
        "B_T_A_T = np.dot(np.transpose(B), np.transpose(A))\n",
        "print(\"\\n3. (AB)^T = B^T * A^T:\")\n",
        "print(\"AB^T =\\n\", AB_T)\n",
        "print(\"B^T * A^T =\\n\", B_T_A_T)\n",
        "\n",
        "# 4. Solve the System of Linear Equations Using Inverse Method\n",
        "\n",
        "# Coefficient matrix A (3x3)\n",
        "A_sys = np.array([[2, -3, 1], [1, -1, 2], [3, 1, -1]])\n",
        "\n",
        "# Constant matrix B (3x1)\n",
        "B_sys = np.array([-1, -3, 9])\n",
        "\n",
        "# Solve for X using the inverse of A (X = A_inv * B)\n",
        "A_inv_sys = np.linalg.inv(A_sys)\n",
        "\n",
        "\n",
        "X = np.dot(A_inv_sys, B_sys)\n",
        "\n",
        "print(\"\\n4. Solution to the system of linear equations (using Inverse method):\")\n",
        "print(f\"x = {X[0]}, y = {X[1]}, z = {X[2]}\")\n"
      ],
      "metadata": {
        "colab": {
          "base_uri": "https://localhost:8080/"
        },
        "id": "k90vmo5z8hyt",
        "outputId": "dd45412f-b9c0-4917-88dd-81578e791286"
      },
      "execution_count": null,
      "outputs": [
        {
          "output_type": "stream",
          "name": "stdout",
          "text": [
            "1. A * A^(-1):\n",
            "[[1.00000000e+00 0.00000000e+00]\n",
            " [1.77635684e-15 1.00000000e+00]]\n",
            "\n",
            "2. AB != BA:\n",
            "AB =\n",
            " [[23 13]\n",
            " [51 29]]\n",
            "BA =\n",
            " [[36 44]\n",
            " [13 16]]\n",
            "\n",
            "3. (AB)^T = B^T * A^T:\n",
            "AB^T =\n",
            " [[23 51]\n",
            " [13 29]]\n",
            "B^T * A^T =\n",
            " [[23 51]\n",
            " [13 29]]\n",
            "\n",
            "4. Solution to the system of linear equations (using Inverse method):\n",
            "x = 2.0, y = 1.0, z = -2.0\n"
          ]
        }
      ]
    },
    {
      "cell_type": "markdown",
      "source": [
        "#10.2 Experiment: How Fast is Numpy?"
      ],
      "metadata": {
        "id": "AL_l3Qh_9cz_"
      }
    },
    {
      "cell_type": "markdown",
      "source": [
        "1. Element-wise Addition:"
      ],
      "metadata": {
        "id": "yrI-9mcu9XHo"
      }
    },
    {
      "cell_type": "markdown",
      "source": [
        "• Using Python Lists, perform element-wise addition of two lists of size 1, 000, 000. Measure\n",
        "and Print the time taken for this operation."
      ],
      "metadata": {
        "id": "SHhh3fUN9z1R"
      }
    },
    {
      "cell_type": "code",
      "source": [
        "import time\n",
        "\n",
        "# Create two lists of size 1,000,000\n",
        "list1 = [i for i in range(1, 1000001)]\n",
        "list2 = [i for i in range(1000001, 2000001)]\n",
        "\n",
        "# Measure the time before the operation\n",
        "start_time = time.time()\n",
        "\n",
        "# Perform element-wise addition using list comprehension\n",
        "result = [list1[i] + list2[i] for i in range(1000000)]\n",
        "\n",
        "# Measure the time after the operation\n",
        "end_time = time.time()\n",
        "\n",
        "# Print the time taken\n",
        "print(f\"Time taken for element-wise addition: {end_time - start_time} seconds\")\n"
      ],
      "metadata": {
        "colab": {
          "base_uri": "https://localhost:8080/"
        },
        "id": "Obhbk8xA9baf",
        "outputId": "914f505c-8372-4130-8f90-db155ba8c7de"
      },
      "execution_count": null,
      "outputs": [
        {
          "output_type": "stream",
          "name": "stdout",
          "text": [
            "Time taken for element-wise addition: 0.13124370574951172 seconds\n"
          ]
        }
      ]
    },
    {
      "cell_type": "markdown",
      "source": [
        "Using Numpy Arrays, Repeat the calculation and measure and print the time taken for\n",
        "this operation."
      ],
      "metadata": {
        "id": "9oKKzfgG900J"
      }
    },
    {
      "cell_type": "code",
      "source": [
        "import numpy as np\n",
        "import time\n",
        "\n",
        "# Create two NumPy arrays of size 1,000,000\n",
        "array1 = np.arange(1, 1000001)\n",
        "array2 = np.arange(1000001, 2000001)\n",
        "\n",
        "# Measure the time before the operation\n",
        "start_time = time.time()\n",
        "\n",
        "# Perform element-wise addition using NumPy\n",
        "result = array1 + array2\n",
        "\n",
        "# Measure the time after the operation\n",
        "end_time = time.time()\n",
        "\n",
        "# Print the time taken\n",
        "print(f\"Time taken for element-wise addition with NumPy: {end_time - start_time} seconds\")\n"
      ],
      "metadata": {
        "colab": {
          "base_uri": "https://localhost:8080/"
        },
        "id": "TjiHSNBa92jZ",
        "outputId": "fc8ef40b-245f-4ab6-d02b-25e2286c748b"
      },
      "execution_count": null,
      "outputs": [
        {
          "output_type": "stream",
          "name": "stdout",
          "text": [
            "Time taken for element-wise addition with NumPy: 0.009052038192749023 seconds\n"
          ]
        }
      ]
    },
    {
      "cell_type": "markdown",
      "source": [
        "2. Element-wise Multiplication"
      ],
      "metadata": {
        "id": "oODtvJP0-BsO"
      }
    },
    {
      "cell_type": "markdown",
      "source": [
        "• Using Python Lists, perform element-wise multiplication of two lists of size 1, 000, 000.\n",
        "Measure and Print the time taken for this operation."
      ],
      "metadata": {
        "id": "JX1Uc-7t-DM-"
      }
    },
    {
      "cell_type": "code",
      "source": [
        "import time\n",
        "\n",
        "# Create two Python lists of size 1,000,000\n",
        "list1 = list(range(1, 1000001))\n",
        "list2 = list(range(1000001, 2000001))\n",
        "\n",
        "# Measure the time before the operation\n",
        "start_time = time.time()\n",
        "\n",
        "# Perform element-wise multiplication using list comprehension\n",
        "result = [list1[i] * list2[i] for i in range(len(list1))]\n",
        "\n",
        "# Measure the time after the operation\n",
        "end_time = time.time()\n",
        "\n",
        "# Print the time taken\n",
        "print(f\"Time taken for element-wise multiplication with Python lists: {end_time - start_time} seconds\")\n"
      ],
      "metadata": {
        "colab": {
          "base_uri": "https://localhost:8080/"
        },
        "id": "K_cHOGmW-GWW",
        "outputId": "92476924-4aba-46f8-c96f-91408e4d969b"
      },
      "execution_count": null,
      "outputs": [
        {
          "output_type": "stream",
          "name": "stdout",
          "text": [
            "Time taken for element-wise multiplication with Python lists: 0.08447122573852539 seconds\n"
          ]
        }
      ]
    },
    {
      "cell_type": "markdown",
      "source": [
        "• Using Numpy Arrays, Repeat the calculation and measure and print the time taken for\n",
        "this operation."
      ],
      "metadata": {
        "id": "VqMT98Oq-GsO"
      }
    },
    {
      "cell_type": "code",
      "source": [
        "import numpy as np\n",
        "import time\n",
        "\n",
        "# Create two NumPy arrays of size 1,000,000\n",
        "array1 = np.arange(1, 1000001)\n",
        "array2 = np.arange(1000001, 2000001)\n",
        "\n",
        "# Measure the time before the operation\n",
        "start_time = time.time()\n",
        "\n",
        "# Perform element-wise multiplication using NumPy\n",
        "result = array1 * array2\n",
        "\n",
        "# Measure the time after the operation\n",
        "end_time = time.time()\n",
        "\n",
        "# Print the time taken\n",
        "print(f\"Time taken for element-wise multiplication with NumPy arrays: {end_time - start_time} seconds\")\n"
      ],
      "metadata": {
        "colab": {
          "base_uri": "https://localhost:8080/"
        },
        "id": "clRRuIQ6-IQo",
        "outputId": "99f3a19d-cc98-4cf6-f39f-9dc276c26443"
      },
      "execution_count": null,
      "outputs": [
        {
          "output_type": "stream",
          "name": "stdout",
          "text": [
            "Time taken for element-wise multiplication with NumPy arrays: 0.005049467086791992 seconds\n"
          ]
        }
      ]
    },
    {
      "cell_type": "markdown",
      "source": [
        "3. Dot Product"
      ],
      "metadata": {
        "id": "k4rVTJqY-a9P"
      }
    },
    {
      "cell_type": "markdown",
      "source": [
        "• Using Python Lists, compute the dot product of two lists of size 1, 000, 000. Measure and\n",
        "Print the time taken for this operation."
      ],
      "metadata": {
        "id": "4Co5gCPP-clY"
      }
    },
    {
      "cell_type": "code",
      "source": [
        "import time\n",
        "\n",
        "# Create two lists of size 1,000,000\n",
        "list1 = [i for i in range(1, 1000001)]\n",
        "list2 = [i for i in range(1000001, 2000001)]\n",
        "\n",
        "# Measure the time before the operation\n",
        "start_time = time.time()\n",
        "\n",
        "# Compute the dot product using Python lists\n",
        "dot_product = sum(a * b for a, b in zip(list1, list2))\n",
        "\n",
        "# Measure the time after the operation\n",
        "end_time = time.time()\n",
        "\n",
        "# Print the time taken\n",
        "print(f\"Time taken for dot product using Python lists: {end_time - start_time} seconds\")\n"
      ],
      "metadata": {
        "colab": {
          "base_uri": "https://localhost:8080/"
        },
        "id": "LxIhSNRP-hGh",
        "outputId": "ff15eeb8-a257-4aeb-b548-08f8279f7ed6"
      },
      "execution_count": null,
      "outputs": [
        {
          "output_type": "stream",
          "name": "stdout",
          "text": [
            "Time taken for dot product using Python lists: 0.08272886276245117 seconds\n"
          ]
        }
      ]
    },
    {
      "cell_type": "markdown",
      "source": [
        "• Using Numpy Arrays, Repeat the calculation and measure and print the time taken for\n",
        "this operation."
      ],
      "metadata": {
        "id": "KPTW5GRB-hdI"
      }
    },
    {
      "cell_type": "code",
      "source": [
        "import numpy as np\n",
        "import time\n",
        "\n",
        "# Create two NumPy arrays of size 1,000,000\n",
        "array1 = np.arange(1, 1000001)\n",
        "array2 = np.arange(1000001, 2000001)\n",
        "\n",
        "# Measure the time before the operation\n",
        "start_time = time.time()\n",
        "\n",
        "# Compute the dot product using NumPy arrays\n",
        "dot_product = np.dot(array1, array2)\n",
        "\n",
        "# Measure the time after the operation\n",
        "end_time = time.time()\n",
        "\n",
        "# Print the time taken\n",
        "print(f\"Time taken for dot product using NumPy arrays: {end_time - start_time} seconds\")\n"
      ],
      "metadata": {
        "colab": {
          "base_uri": "https://localhost:8080/"
        },
        "id": "KG4NECpL-jeX",
        "outputId": "8d3e39c4-befd-4c20-e6c8-68b122280748"
      },
      "execution_count": null,
      "outputs": [
        {
          "output_type": "stream",
          "name": "stdout",
          "text": [
            "Time taken for dot product using NumPy arrays: 0.0020294189453125 seconds\n"
          ]
        }
      ]
    },
    {
      "cell_type": "markdown",
      "source": [
        "4. Matrix Multiplication"
      ],
      "metadata": {
        "id": "Dy9ALYwj-1SG"
      }
    },
    {
      "cell_type": "markdown",
      "source": [
        "• Using Python lists, perform matrix multiplication of two matrices of size 1000x1000. Mea-\n",
        "sure and print the time taken for this operation."
      ],
      "metadata": {
        "id": "jvgZ5w3M-3bQ"
      }
    },
    {
      "cell_type": "code",
      "source": [
        "import time\n",
        "\n",
        "# Function to perform matrix multiplication using Python lists\n",
        "def matrix_multiply(A, B):\n",
        "    # Initialize the result matrix with zeros\n",
        "    result = [[0] * len(B[0]) for _ in range(len(A))]\n",
        "\n",
        "    # Perform matrix multiplication\n",
        "    for i in range(len(A)):\n",
        "        for j in range(len(B[0])):\n",
        "            for k in range(len(B)):\n",
        "                result[i][j] += A[i][k] * B[k][j]\n",
        "\n",
        "    return result\n",
        "\n",
        "# Generate two 1000x1000 matrices with random values\n",
        "matrix_A = [[1] * 1000 for _ in range(1000)]  # 1000x1000 matrix filled with 1s\n",
        "matrix_B = [[1] * 1000 for _ in range(1000)]  # 1000x1000 matrix filled with 1s\n",
        "\n",
        "# Measure the time before the operation\n",
        "start_time = time.time()\n",
        "\n",
        "# Perform matrix multiplication\n",
        "result_matrix = matrix_multiply(matrix_A, matrix_B)\n",
        "\n",
        "# Measure the time after the operation\n",
        "end_time = time.time()\n",
        "\n",
        "# Print the time taken\n",
        "print(f\"Time taken for matrix multiplication using Python lists: {end_time - start_time} seconds\")\n"
      ],
      "metadata": {
        "colab": {
          "base_uri": "https://localhost:8080/"
        },
        "id": "jFZ9gTUZ-69B",
        "outputId": "d53736c9-8fdc-4eea-ce08-16cbdc4039ba"
      },
      "execution_count": null,
      "outputs": [
        {
          "output_type": "stream",
          "name": "stdout",
          "text": [
            "Time taken for matrix multiplication using Python lists: 135.38863229751587 seconds\n"
          ]
        }
      ]
    },
    {
      "cell_type": "markdown",
      "source": [
        "• Using NumPy arrays, perform matrix multiplication of two matrices of size 1000x1000.\n",
        "Measure and print the time taken for this operation."
      ],
      "metadata": {
        "id": "-tz5wFYJ-7VH"
      }
    },
    {
      "cell_type": "code",
      "source": [
        "import numpy as np\n",
        "import time\n",
        "\n",
        "# Generate two 1000x1000 matrices with random values\n",
        "matrix_A = np.ones((1000, 1000))  # 1000x1000 matrix filled with 1s\n",
        "matrix_B = np.ones((1000, 1000))  # 1000x1000 matrix filled with 1s\n",
        "\n",
        "# Measure the time before the operation\n",
        "start_time = time.time()\n",
        "\n",
        "# Perform matrix multiplication using NumPy\n",
        "result_matrix = np.dot(matrix_A, matrix_B)\n",
        "\n",
        "# Measure the time after the operation\n",
        "end_time = time.time()\n",
        "\n",
        "# Print the time taken\n",
        "print(f\"Time taken for matrix multiplication using NumPy: {end_time - start_time} seconds\")\n"
      ],
      "metadata": {
        "colab": {
          "base_uri": "https://localhost:8080/"
        },
        "id": "Eo68CWBA-9tv",
        "outputId": "307cf873-c7bd-4d78-aff4-7a5e9012241a"
      },
      "execution_count": null,
      "outputs": [
        {
          "output_type": "stream",
          "name": "stdout",
          "text": [
            "Time taken for matrix multiplication using NumPy: 0.07257533073425293 seconds\n"
          ]
        }
      ]
    }
  ]
}